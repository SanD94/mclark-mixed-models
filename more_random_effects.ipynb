{
 "cells": [
  {
   "cell_type": "code",
   "execution_count": 1,
   "metadata": {
    "vscode": {
     "languageId": "r"
    }
   },
   "outputs": [
    {
     "name": "stderr",
     "output_type": "stream",
     "text": [
      "Loading required package: Matrix\n",
      "\n",
      "here() starts at /home/sand94/projects/mclark-mixed-models\n",
      "\n",
      "── \u001b[1mAttaching core tidyverse packages\u001b[22m ──────────────────────── tidyverse 2.0.0 ──\n",
      "\u001b[32m✔\u001b[39m \u001b[34mdplyr    \u001b[39m 1.1.4     \u001b[32m✔\u001b[39m \u001b[34mreadr    \u001b[39m 2.1.5\n",
      "\u001b[32m✔\u001b[39m \u001b[34mforcats  \u001b[39m 1.0.0     \u001b[32m✔\u001b[39m \u001b[34mstringr  \u001b[39m 1.5.1\n",
      "\u001b[32m✔\u001b[39m \u001b[34mlubridate\u001b[39m 1.9.3     \u001b[32m✔\u001b[39m \u001b[34mtibble   \u001b[39m 3.2.1\n",
      "\u001b[32m✔\u001b[39m \u001b[34mpurrr    \u001b[39m 1.0.2     \u001b[32m✔\u001b[39m \u001b[34mtidyr    \u001b[39m 1.3.1\n",
      "── \u001b[1mConflicts\u001b[22m ────────────────────────────────────────── tidyverse_conflicts() ──\n",
      "\u001b[31m✖\u001b[39m \u001b[34mtidyr\u001b[39m::\u001b[32mexpand()\u001b[39m masks \u001b[34mMatrix\u001b[39m::expand()\n",
      "\u001b[31m✖\u001b[39m \u001b[34mdplyr\u001b[39m::\u001b[32mfilter()\u001b[39m masks \u001b[34mstats\u001b[39m::filter()\n",
      "\u001b[31m✖\u001b[39m \u001b[34mdplyr\u001b[39m::\u001b[32mlag()\u001b[39m    masks \u001b[34mstats\u001b[39m::lag()\n",
      "\u001b[31m✖\u001b[39m \u001b[34mtidyr\u001b[39m::\u001b[32mpack()\u001b[39m   masks \u001b[34mMatrix\u001b[39m::pack()\n",
      "\u001b[31m✖\u001b[39m \u001b[34mtidyr\u001b[39m::\u001b[32munpack()\u001b[39m masks \u001b[34mMatrix\u001b[39m::unpack()\n",
      "\u001b[36mℹ\u001b[39m Use the conflicted package (\u001b[3m\u001b[34m<http://conflicted.r-lib.org/>\u001b[39m\u001b[23m) to force all conflicts to become errors\n",
      "\n",
      "Attaching package: ‘kableExtra’\n",
      "\n",
      "\n",
      "The following object is masked from ‘package:dplyr’:\n",
      "\n",
      "    group_rows\n",
      "\n",
      "\n"
     ]
    }
   ],
   "source": [
    "library(lme4)\n",
    "library(ggplot2)\n",
    "library(here)\n",
    "library(tidyverse)\n",
    "library(mixedup)\n",
    "library(kableExtra)"
   ]
  },
  {
   "cell_type": "code",
   "execution_count": 3,
   "metadata": {
    "vscode": {
     "languageId": "r"
    }
   },
   "outputs": [],
   "source": [
    "kable_df <- function(data, digits=3, ...) {\n",
    "  kableExtra::kable(\n",
    "    data,\n",
    "    digits = digits,\n",
    "    format = 'html',\n",
    "    booktabs = T,\n",
    "    # longtable = F,\n",
    "    linesep = \"\", \n",
    "    ...,\n",
    "  ) %>% \n",
    "    kableExtra::kable_styling(full_width = F)\n",
    "}"
   ]
  },
  {
   "cell_type": "code",
   "execution_count": 4,
   "metadata": {
    "vscode": {
     "languageId": "r"
    }
   },
   "outputs": [
    {
     "name": "stderr",
     "output_type": "stream",
     "text": [
      "Loading required package: sysfonts\n",
      "\n",
      "Loading required package: showtextdb\n",
      "\n"
     ]
    }
   ],
   "source": [
    "library(showtext)\n",
    "\n",
    "font_add_google(\"Lato\", \"lato\")\n",
    "showtext_opts(dpi = 300)\n",
    "showtext_auto()"
   ]
  },
  {
   "cell_type": "code",
   "execution_count": 5,
   "metadata": {
    "vscode": {
     "languageId": "r"
    }
   },
   "outputs": [],
   "source": [
    "library(repr)\n",
    "options(repr.plot.width=15, repr.plot.height=12)"
   ]
  },
  {
   "cell_type": "code",
   "execution_count": 6,
   "metadata": {
    "vscode": {
     "languageId": "r"
    }
   },
   "outputs": [
    {
     "name": "stderr",
     "output_type": "stream",
     "text": [
      "\u001b[1mRows: \u001b[22m\u001b[34m1200\u001b[39m \u001b[1mColumns: \u001b[22m\u001b[34m10\u001b[39m\n",
      "\u001b[36m──\u001b[39m \u001b[1mColumn specification\u001b[22m \u001b[36m────────────────────────────────────────────────────────\u001b[39m\n",
      "\u001b[1mDelimiter:\u001b[22m \",\"\n",
      "\u001b[31mchr\u001b[39m (4): occas, job, sex, admitted\n",
      "\u001b[32mdbl\u001b[39m (6): student, gpa, highgpa, year, semester, occasion\n",
      "\n",
      "\u001b[36mℹ\u001b[39m Use `spec()` to retrieve the full column specification for this data.\n",
      "\u001b[36mℹ\u001b[39m Specify the column types or set `show_col_types = FALSE` to quiet this message.\n"
     ]
    }
   ],
   "source": [
    "data_location <- \"data\"\n",
    "gpa_file <- \"gpa.csv\"\n",
    "gpa_data <- read_csv(here(data_location, gpa_file))"
   ]
  },
  {
   "cell_type": "code",
   "execution_count": 9,
   "metadata": {
    "vscode": {
     "languageId": "r"
    }
   },
   "outputs": [
    {
     "data": {
      "text/plain": [
       "Linear mixed model fit by REML ['lmerMod']\n",
       "Formula: gpa ~ occasion + (1 + occasion | student)\n",
       "   Data: gpa_data\n",
       "\n",
       "REML criterion at convergence: 261\n",
       "\n",
       "Scaled residuals: \n",
       "    Min      1Q  Median      3Q     Max \n",
       "-3.2695 -0.5377 -0.0128  0.5326  3.1939 \n",
       "\n",
       "Random effects:\n",
       " Groups   Name        Variance Std.Dev. Corr \n",
       " student  (Intercept) 0.045193 0.21259       \n",
       "          occasion    0.004504 0.06711  -0.10\n",
       " Residual             0.042388 0.20588       \n",
       "Number of obs: 1200, groups:  student, 200\n",
       "\n",
       "Fixed effects:\n",
       "            Estimate Std. Error t value\n",
       "(Intercept) 2.599214   0.018357  141.59\n",
       "occasion    0.106314   0.005885   18.07\n",
       "\n",
       "Correlation of Fixed Effects:\n",
       "         (Intr)\n",
       "occasion -0.345"
      ]
     },
     "metadata": {},
     "output_type": "display_data"
    }
   ],
   "source": [
    "gpa_mixed <- lmer(gpa ~ occasion + (1 + occasion | student), data = gpa_data)\n",
    "summary(gpa_mixed)"
   ]
  },
  {
   "cell_type": "markdown",
   "metadata": {},
   "source": [
    "### Categorical Features\n",
    "\n",
    "Sometimes we may want to assess the effects of a categorical feature across the levels of our grouping variable. For our GPA example, this might include something like the binary indicator of whether they took any higher level/AP/Honor courses that semester. Another would be their working status, such as part-time, full-time, volunteer or not working. For many students, this sort of thing could vary from one semester to the next.\n",
    "\n",
    "For binary features, nothing changes from what we’ve demonstrated so far. We allow that coefficient to vary across groups, just as we would the single coefficient from a numeric predictor. But what about the case where we have additional categories?\n",
    "\n",
    "As a fixed effect, a categorical feature would have k-1 coefficients with default dummy coding, which represent the effect of changing from a reference group, whose mean is represented via the intercept, to the given category. If we allow that effect to be random, then we would have separate k-1 slopes to vary by our structured levels (along with our random intercept), resulting in multiple random coefficients, along with their correlation.\n",
    "\n",
    "Adding these additional random slopes would obviously complicate our model, but perhaps not too much. On the practical side though, it can often lead to convergence problems. But there is a silver lining in that case. Since it is a categorical feature, we can just treat it like we would a typical random effect. The one difference is that, in the general case of random coefficients, just as we are interested in the interaction of the effect with structure already present, we will want to specify our model to capture this.\n",
    "\n",
    "For our example we will run three models:\n",
    "\n",
    "    Model 1: The way our intuition would suggest based on what we’ve seen so far\n",
    "    Model 2: An alternate way to code model 1, but which puts our random effects on similar scales\n",
    "    Model 3: A different, but identically conceptual way to get at our effect via an interaction random effect."
   ]
  },
  {
   "cell_type": "code",
   "execution_count": 14,
   "metadata": {
    "vscode": {
     "languageId": "r"
    }
   },
   "outputs": [],
   "source": [
    "data_location <- \"data\"\n",
    "pupil_file <- \"pupils.RData\"\n",
    "load(here(data_location, pupil_file))\n"
   ]
  },
  {
   "cell_type": "code",
   "execution_count": 16,
   "metadata": {
    "vscode": {
     "languageId": "r"
    }
   },
   "outputs": [
    {
     "name": "stderr",
     "output_type": "stream",
     "text": [
      "boundary (singular) fit: see help('isSingular')\n",
      "\n",
      "boundary (singular) fit: see help('isSingular')\n",
      "\n"
     ]
    }
   ],
   "source": [
    "ach_cat_re_1 <- lmer(\n",
    "  achievement ~ ses + (1 + ses | primary_school_id),\n",
    "  data = pupils\n",
    ")\n",
    "\n",
    "ach_cat_re_2 <- lmer(\n",
    "  achievement ~ ses + (0 + ses | primary_school_id),\n",
    "  data = pupils\n",
    ")\n",
    "\n",
    "ach_cat_re_3 <- lmer(\n",
    "  achievement ~ ses + (1 | primary_school_id) + (1 | primary_school_id:ses),\n",
    "  data = pupils\n",
    ")\n",
    "\n"
   ]
  },
  {
   "cell_type": "code",
   "execution_count": 17,
   "metadata": {
    "vscode": {
     "languageId": "r"
    }
   },
   "outputs": [
    {
     "name": "stderr",
     "output_type": "stream",
     "text": [
      "\n",
      "Variance Components:\n",
      "\n",
      "\n"
     ]
    },
    {
     "name": "stdout",
     "output_type": "stream",
     "text": [
      "             Group     Effect Variance   SD Var_prop\n",
      " primary_school_id  Intercept     0.09 0.30     0.07\n",
      " primary_school_id       ses2     0.04 0.20     0.03\n",
      " primary_school_id       ses3     0.14 0.37     0.11\n",
      " primary_school_id       ses4     0.09 0.30     0.07\n",
      " primary_school_id       ses5     0.14 0.37     0.10\n",
      " primary_school_id seshighest     0.31 0.55     0.23\n",
      "          Residual         NA     0.51 0.71     0.39\n"
     ]
    },
    {
     "name": "stderr",
     "output_type": "stream",
     "text": [
      "\n",
      "Fixed Effects:\n",
      "\n",
      "\n"
     ]
    },
    {
     "name": "stdout",
     "output_type": "stream",
     "text": [
      "       Term Value   SE     t P_value Lower_2.5 Upper_97.5\n",
      "  Intercept  6.08 0.11 57.86    0.00      5.87       6.28\n",
      "       ses2  0.08 0.13  0.65    0.51     -0.16       0.33\n",
      "       ses3  0.09 0.13  0.69    0.49     -0.16       0.33\n",
      "       ses4  0.28 0.12  2.44    0.01      0.06       0.51\n",
      "       ses5  0.34 0.12  2.92    0.00      0.11       0.57\n",
      " seshighest  0.60 0.14  4.33    0.00      0.33       0.88\n"
     ]
    }
   ],
   "source": [
    "summarize_model(ach_cat_re_1, ci = FALSE, cor_re = TRUE)"
   ]
  },
  {
   "cell_type": "code",
   "execution_count": null,
   "metadata": {
    "vscode": {
     "languageId": "r"
    }
   },
   "outputs": [],
   "source": []
  }
 ],
 "metadata": {
  "kernelspec": {
   "display_name": "R",
   "language": "R",
   "name": "ir"
  },
  "language_info": {
   "codemirror_mode": "r",
   "file_extension": ".r",
   "mimetype": "text/x-r-source",
   "name": "R",
   "pygments_lexer": "r",
   "version": "4.3.1"
  }
 },
 "nbformat": 4,
 "nbformat_minor": 2
}
